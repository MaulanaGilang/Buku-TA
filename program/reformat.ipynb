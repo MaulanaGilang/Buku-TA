{
 "cells": [
  {
   "cell_type": "code",
   "execution_count": 3,
   "metadata": {},
   "outputs": [],
   "source": [
    "from PIL import Image\n",
    "import os"
   ]
  },
  {
   "cell_type": "code",
   "execution_count": 4,
   "metadata": {},
   "outputs": [],
   "source": [
    "def convert_directory_to_jpeg(input_dir, output_base_dir):\n",
    "    for root, dirs, files in os.walk(input_dir):\n",
    "        for file in files:\n",
    "            if file.lower().endswith(('.png', '.jpg', '.jpeg', '.tiff', '.bmp', '.gif')):\n",
    "                input_path = os.path.join(root, file)\n",
    "                relative_path = os.path.relpath(root, input_dir)\n",
    "                output_dir = os.path.join(output_base_dir, relative_path)\n",
    "\n",
    "                if not os.path.exists(output_dir):\n",
    "                    os.makedirs(output_dir)\n",
    "\n",
    "                output_file = os.path.splitext(os.path.join(output_dir, file))[0] + '.jpg'\n",
    "\n",
    "                # Load the image\n",
    "                image = Image.open(input_path)\n",
    "\n",
    "                # If the image has an alpha channel, convert it to RGB and fill transparency with white\n",
    "                if image.mode in ('RGBA', 'LA') or (image.mode == 'P' and 'transparency' in image.info):\n",
    "                    # Create a white background image\n",
    "                    background = Image.new('RGB', image.size, (255, 255, 255))\n",
    "                    # Paste the image onto the background\n",
    "                    background.paste(image, mask=image.split()[3])  # 3 is the alpha channel\n",
    "                    image = background\n",
    "\n",
    "                # Save the image in JPEG format\n",
    "                image.save(output_file, 'JPEG')\n",
    "\n",
    "                # print(f\"Image saved as {output_file}\")\n",
    "                break\n",
    "\n",
    "# Example usage\n",
    "input_dir = 'dataset'  # Change this to your input directory path\n",
    "output_base_dir = 'out'  # Change this to your desired output base directory\n",
    "\n",
    "convert_directory_to_jpeg(input_dir, output_base_dir)\n"
   ]
  }
 ],
 "metadata": {
  "kernelspec": {
   "display_name": "Python 3",
   "language": "python",
   "name": "python3"
  },
  "language_info": {
   "codemirror_mode": {
    "name": "ipython",
    "version": 3
   },
   "file_extension": ".py",
   "mimetype": "text/x-python",
   "name": "python",
   "nbconvert_exporter": "python",
   "pygments_lexer": "ipython3",
   "version": "3.11.4"
  }
 },
 "nbformat": 4,
 "nbformat_minor": 2
}
